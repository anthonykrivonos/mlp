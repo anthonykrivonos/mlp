{
 "cells": [
  {
   "cell_type": "markdown",
   "metadata": {},
   "source": [
    "# MLP Neural Network from Scratch\n",
    "## MNIST Test\n",
    "\n",
    "Written by Anthony Krivonos"
   ]
  },
  {
   "cell_type": "markdown",
   "metadata": {},
   "source": [
    "### Imports"
   ]
  },
  {
   "cell_type": "code",
   "execution_count": 1,
   "metadata": {},
   "outputs": [],
   "source": [
    "import sys, os\n",
    "module_path = os.path.abspath(os.path.join('..'))\n",
    "if module_path not in sys.path:\n",
    "    sys.path.append(module_path)\n",
    "\n",
    "import numpy as np\n",
    "import pandas as pd\n",
    "from sklearn.datasets import fetch_openml\n",
    "from sklearn.model_selection import train_test_split\n",
    "from sklearn.utils import check_random_state\n",
    "\n",
    "from neural_network.neural_network import NeuralNetwork, Activation, Regularization, Layer, RegLayer, Loss"
   ]
  },
  {
   "cell_type": "markdown",
   "metadata": {},
   "source": [
    "### Constants"
   ]
  },
  {
   "cell_type": "code",
   "execution_count": 2,
   "metadata": {},
   "outputs": [],
   "source": [
    "TRAIN_SIZE = 60000\n",
    "TEST_SIZE  = 10000\n",
    "LABELS     = [ '0', '1', '2', '3', '4', '5', '6', '7', '8', '9' ]"
   ]
  },
  {
   "cell_type": "markdown",
   "metadata": {},
   "source": [
    "### Get Data"
   ]
  },
  {
   "cell_type": "code",
   "execution_count": 3,
   "metadata": {},
   "outputs": [
    {
     "name": "stdout",
     "output_type": "stream",
     "text": [
      "Loading 60000 train data points and 10000 test data points from MNIST...\n",
      "... done.\n",
      "Training datapoints dimension: 784\n",
      "Testing datapoints dimension: 784\n"
     ]
    }
   ],
   "source": [
    "# Load mnist data: creds to Yann LeCun!\n",
    "print(\"Loading %d train data points and %d test data points from MNIST...\" % (TRAIN_SIZE, TEST_SIZE))\n",
    "X, y = fetch_openml('mnist_784', version = 1, return_X_y = True)\n",
    "print(\"... done.\")\n",
    "\n",
    "# Randomize the dataset\n",
    "perm = check_random_state(0).permutation(X.shape[0])\n",
    "X = X[perm]\n",
    "y = y[perm]\n",
    "X = X.reshape((X.shape[0], -1))\n",
    "\n",
    "# Get data\n",
    "X_train, X_test, y_train, y_test = train_test_split(X, y, train_size=TRAIN_SIZE, test_size=TEST_SIZE)\n",
    "\n",
    "print(\"Training datapoints dimension: %d\" % X_train.shape[1])\n",
    "print(\"Testing datapoints dimension: %d\" % X_test.shape[1])"
   ]
  },
  {
   "cell_type": "markdown",
   "metadata": {},
   "source": [
    "### Pre-Process Data"
   ]
  },
  {
   "cell_type": "code",
   "execution_count": 4,
   "metadata": {},
   "outputs": [],
   "source": [
    "y_train_encoded, y_train_mapping = NeuralNetwork.one_hot_encode(y_train, LABELS)\n",
    "_, y_test_mapping = NeuralNetwork.one_hot_encode(y_test, LABELS)\n",
    "\n",
    "# Normalize to prevent overflow\n",
    "X_train /= 255\n",
    "X_test /= 255"
   ]
  },
  {
   "cell_type": "markdown",
   "metadata": {},
   "source": [
    "### Create Network"
   ]
  },
  {
   "cell_type": "code",
   "execution_count": 30,
   "metadata": {},
   "outputs": [
    {
     "name": "stdout",
     "output_type": "stream",
     "text": [
      "Added 'activation' layer\n",
      "  Layers:  ['{ 784, linear }', '{ 4096, relu }', '{ 0.10, dropout }', '{ 10, softmax }']\n",
      "  Weights: [(784, 4096), (4096, 10)]\n",
      "  Biases:  [(4096,), (10,)]\n"
     ]
    }
   ],
   "source": [
    "input_size = X_train.shape[1]\n",
    "output_size = y_train_encoded.shape[1]\n",
    "\n",
    "dropout = 0.1\n",
    "reg_lambda = 1.5\n",
    "\n",
    "nn = NeuralNetwork(input_size = input_size)\n",
    "\n",
    "nn.add(Layer(4096, Activation.relu))\n",
    "nn.add(RegLayer(Regularization.l1, reg_lambda))\n",
    "nn.add(RegLayer(Regularization.normalize))\n",
    "\n",
    "nn.add(RegLayer(Regularization.dropout, dropout))\n",
    "nn.add(Layer(output_size, Activation.softmax), verbose = True)"
   ]
  },
  {
   "cell_type": "markdown",
   "metadata": {},
   "source": [
    "### Train Network and Get Predictions"
   ]
  },
  {
   "cell_type": "code",
   "execution_count": 31,
   "metadata": {
    "scrolled": true
   },
   "outputs": [
    {
     "name": "stdout",
     "output_type": "stream",
     "text": [
      "Epoch      1 (acc: 0.767166666667, loss: 11.51292546497022684093) [============================]          \n",
      "Epoch      2 (acc: 0.780333333333, loss: 11.51292546497022684093) [============================]          \n",
      " - lr reduced to 80.000000000000\n",
      "Epoch      3 (acc: 0.803500000000, loss: 11.51292546497022684093) [============================]          \n",
      " - lr reduced to 64.000000000000\n",
      "Epoch      4 (acc: 0.803500000000, loss: 11.51292546497022684093) [============================]          \n",
      " - lr reduced to 51.200000000000\n",
      "Epoch      5 (acc: 0.803500000000, loss: 11.51292546497022684093) [============================]          \n",
      " - lr reduced to 40.960000000000\n",
      "Epoch      6 (acc: 0.803500000000, loss: 11.51292546497022684093) [============================]          \n",
      " - lr reduced to 32.768000000000\n",
      "Epoch      7 (acc: 0.803500000000, loss: 11.51292546497022684093) [============================]          \n",
      " - lr reduced to 26.214400000000\n",
      "Epoch      8 (acc: 0.803500000000, loss: 11.51292546497022684093) [============================]          \n",
      " - lr reduced to 20.971520000000\n",
      "Epoch      9 (acc: 0.803500000000, loss: 11.51292546497022684093) [============================]          \n",
      " - lr reduced to 16.777216000000\n",
      "Epoch     10 (acc: 0.803500000000, loss: 11.51292546497022684093) [============================]          \n"
     ]
    }
   ],
   "source": [
    "# Train network\n",
    "nn.reset()\n",
    "# nn.load_weights('best_nn_mnist')\n",
    "nn.train(X_train,\n",
    "         y_train_encoded,\n",
    "         batch_size = 1024,\n",
    "         epochs = 10,\n",
    "         verbose = True,\n",
    "         shuffle = True,\n",
    "         lr = 100,\n",
    "         loss_type = Loss.cross_entropy,\n",
    "         validation_split = 0.1,\n",
    "         use_best_weights = True,\n",
    "         dynamic_lr_rate = 0.8,\n",
    "         dynamic_lr_limit= 10,\n",
    "         dynamic_lr_epochs = 2)"
   ]
  },
  {
   "cell_type": "code",
   "execution_count": 53,
   "metadata": {},
   "outputs": [],
   "source": [
    "# 0.8023\n",
    "# nn.save_weights('best_nn_mnist')"
   ]
  },
  {
   "cell_type": "code",
   "execution_count": 36,
   "metadata": {
    "scrolled": true
   },
   "outputs": [],
   "source": [
    "# Get network predictions\n",
    "y_predictions_encoded = nn.classify(X_test)\n",
    "\n",
    "# Decode the predictions\n",
    "y_predictions = NeuralNetwork.one_hot_decode(y_predictions_encoded, y_test_mapping)"
   ]
  },
  {
   "cell_type": "markdown",
   "metadata": {},
   "source": [
    "### Get Stats and Confusion Matrix"
   ]
  },
  {
   "cell_type": "code",
   "execution_count": 58,
   "metadata": {},
   "outputs": [
    {
     "name": "stdout",
     "output_type": "stream",
     "text": [
      "Accuracy: 0.802300000000\n"
     ]
    },
    {
     "data": {
      "image/png": "[encoded data removed]",
      "text/plain": [
       "<matplotlib.figure.Figure at 0x13500ce1470>"
      ]
     },
     "metadata": {},
     "output_type": "display_data"
    }
   ],
   "source": [
    "import seaborn as sn\n",
    "import random\n",
    "\n",
    "confusion_matrix = pd.crosstab([y_test], [y_predictions], rownames=['Actual'], colnames=['Predicted'])\n",
    "sn.heatmap(confusion_matrix, annot=True)\n",
    "\n",
    "accuracy = NeuralNetwork.get_accuracy(np.array(y_predictions), np.array(y_test))\n",
    "print(\"Accuracy: %1.4f\" % accuracy)"
   ]
  },
  {
   "cell_type": "markdown",
   "metadata": {},
   "source": [
    "### Classification Visualization"
   ]
  },
  {
   "cell_type": "code",
   "execution_count": 38,
   "metadata": {},
   "outputs": [],
   "source": [
    "import matplotlib.pyplot as plt\n",
    "\n",
    "def visualize(num):\n",
    "    index = np.random.choice(np.where(y_test==str(num % 10))[0])\n",
    "    dim = int(np.sqrt(X_test[index].shape[0]))\n",
    "    img = X_test[index].reshape(dim, dim) * 255.\n",
    "    plt.imshow(img)\n",
    "    print(\"Prediction: %s (Correct answer: %s)\" % (y_predictions[index], y_test[index]))"
   ]
  },
  {
   "cell_type": "code",
   "execution_count": 39,
   "metadata": {
    "scrolled": false
   },
   "outputs": [
    {
     "name": "stdout",
     "output_type": "stream",
     "text": [
      "Prediction: 0 (Correct answer: 0)\n"
     ]
    },
    {
     "data": {
      "image/png": "[encoded data removed]",
      "text/plain": [
       "<matplotlib.figure.Figure at 0x135026af9e8>"
      ]
     },
     "metadata": {},
     "output_type": "display_data"
    }
   ],
   "source": [
    "visualize(0)"
   ]
  },
  {
   "cell_type": "code",
   "execution_count": 40,
   "metadata": {},
   "outputs": [
    {
     "name": "stdout",
     "output_type": "stream",
     "text": [
      "Prediction: 1 (Correct answer: 1)\n"
     ]
    },
    {
     "data": {
      "image/png": "[encoded data removed]",
      "text/plain": [
       "<matplotlib.figure.Figure at 0x13500958c50>"
      ]
     },
     "metadata": {},
     "output_type": "display_data"
    }
   ],
   "source": [
    "visualize(1)"
   ]
  },
  {
   "cell_type": "code",
   "execution_count": 41,
   "metadata": {},
   "outputs": [
    {
     "name": "stdout",
     "output_type": "stream",
     "text": [
      "Prediction: 2 (Correct answer: 2)\n"
     ]
    },
    {
     "data": {
      "image/png": "[encoded data removed]",
      "text/plain": [
       "<matplotlib.figure.Figure at 0x13502fbb0b8>"
      ]
     },
     "metadata": {},
     "output_type": "display_data"
    }
   ],
   "source": [
    "visualize(2)"
   ]
  },
  {
   "cell_type": "code",
   "execution_count": 42,
   "metadata": {},
   "outputs": [
    {
     "name": "stdout",
     "output_type": "stream",
     "text": [
      "Prediction: 3 (Correct answer: 3)\n"
     ]
    },
    {
     "data": {
      "image/png": "[encoded data removed]",
      "text/plain": [
       "<matplotlib.figure.Figure at 0x135029536d8>"
      ]
     },
     "metadata": {},
     "output_type": "display_data"
    }
   ],
   "source": [
    "visualize(3)"
   ]
  },
  {
   "cell_type": "code",
   "execution_count": 43,
   "metadata": {},
   "outputs": [
    {
     "name": "stdout",
     "output_type": "stream",
     "text": [
      "Prediction: 4 (Correct answer: 4)\n"
     ]
    },
    {
     "data": {
      "image/png": "[encoded data removed]",
      "text/plain": [
       "<matplotlib.figure.Figure at 0x13500b785c0>"
      ]
     },
     "metadata": {},
     "output_type": "display_data"
    }
   ],
   "source": [
    "visualize(4)"
   ]
  },
  {
   "cell_type": "code",
   "execution_count": 44,
   "metadata": {},
   "outputs": [
    {
     "name": "stdout",
     "output_type": "stream",
     "text": [
      "Prediction: 5 (Correct answer: 5)\n"
     ]
    },
    {
     "data": {
      "image/png": "[encoded data removed]",
      "text/plain": [
       "<matplotlib.figure.Figure at 0x13502808f60>"
      ]
     },
     "metadata": {},
     "output_type": "display_data"
    }
   ],
   "source": [
    "visualize(5)"
   ]
  },
  {
   "cell_type": "code",
   "execution_count": 45,
   "metadata": {},
   "outputs": [
    {
     "name": "stdout",
     "output_type": "stream",
     "text": [
      "Prediction: 6 (Correct answer: 6)\n"
     ]
    },
    {
     "data": {
      "image/png": "[encoded data removed]",
      "text/plain": [
       "<matplotlib.figure.Figure at 0x135025c8e80>"
      ]
     },
     "metadata": {},
     "output_type": "display_data"
    }
   ],
   "source": [
    "visualize(6)"
   ]
  },
  {
   "cell_type": "code",
   "execution_count": 46,
   "metadata": {},
   "outputs": [
    {
     "name": "stdout",
     "output_type": "stream",
     "text": [
      "Prediction: 7 (Correct answer: 7)\n"
     ]
    },
    {
     "data": {
      "image/png": "[encoded data removed]",
      "text/plain": [
       "<matplotlib.figure.Figure at 0x13502984ba8>"
      ]
     },
     "metadata": {},
     "output_type": "display_data"
    }
   ],
   "source": [
    "visualize(7)"
   ]
  },
  {
   "cell_type": "code",
   "execution_count": 52,
   "metadata": {},
   "outputs": [
    {
     "name": "stdout",
     "output_type": "stream",
     "text": [
      "Prediction: 8 (Correct answer: 8)\n"
     ]
    },
    {
     "data": {
      "image/png": "[encoded data removed]",
      "text/plain": [
       "<matplotlib.figure.Figure at 0x13502b296a0>"
      ]
     },
     "metadata": {},
     "output_type": "display_data"
    }
   ],
   "source": [
    "visualize(8)"
   ]
  },
  {
   "cell_type": "code",
   "execution_count": 51,
   "metadata": {},
   "outputs": [
    {
     "name": "stdout",
     "output_type": "stream",
     "text": [
      "Prediction: 9 (Correct answer: 9)\n"
     ]
    },
    {
     "data": {
      "image/png": "[encoded data removed]",
      "text/plain": [
       "<matplotlib.figure.Figure at 0x135026cb400>"
      ]
     },
     "metadata": {},
     "output_type": "display_data"
    }
   ],
   "source": [
    "visualize(9)"
   ]
  },
  {
   "cell_type": "code",
   "execution_count": null,
   "metadata": {},
   "outputs": [],
   "source": []
  }
 ],
 "metadata": {
  "kernelspec": {
   "display_name": "Python 3",
   "language": "python",
   "name": "python3"
  },
  "language_info": {
   "codemirror_mode": {
    "name": "ipython",
    "version": 3
   },
   "file_extension": ".py",
   "mimetype": "text/x-python",
   "name": "python",
   "nbconvert_exporter": "python",
   "pygments_lexer": "ipython3",
   "version": "3.6.4"
  }
 },
 "nbformat": 4,
 "nbformat_minor": 2
}
